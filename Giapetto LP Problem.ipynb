{
 "cells": [
  {
   "cell_type": "code",
   "execution_count": 13,
   "metadata": {},
   "outputs": [],
   "source": [
    "#     * Giapetto, inc. manufactures two types of furnitures: chairs and tables. The manufacturer wants to maximize their weekly profit.\n",
    "#     * $20 profit per chair\n",
    "#     * $30 profit per table\n",
    "#     * A chair requires 1 hour of finishing labor and 2 hours of carpentry labor\n",
    "#     * A table requires 2 hour of finishing labor and 1 hours of carpentry labor\n",
    "#     * Each week, Giapetto have only 100 finishing hours and 100 carpentry hours available\n",
    "#     * x1: number of chairs produced each week\n",
    "#     * x2: number of tables produced each week\n",
    "#                                                 max    z = 20x1 + 30x2\n",
    "#                                                  s.t., x1 + 2x2 <= 100   (finishing hours)\n",
    "#                                                        2x1 + x2 <= 100   (carpentry hours)\n",
    "#                                                              x1 >= 0     (sign restriction)\n",
    "#                                                              x2 >= 0     (sign restriction)"
   ]
  },
  {
   "cell_type": "code",
   "execution_count": 14,
   "metadata": {},
   "outputs": [],
   "source": [
    "from pulp import *"
   ]
  },
  {
   "cell_type": "code",
   "execution_count": 15,
   "metadata": {},
   "outputs": [],
   "source": [
    "# create a LP maximization problem\n",
    "prob = LpProblem(\"Giapetto\", LpMaximize)"
   ]
  },
  {
   "cell_type": "code",
   "execution_count": 16,
   "metadata": {},
   "outputs": [],
   "source": [
    "# define variables\n",
    "x1 = LpVariable(\"x1\", lowBound=0)\n",
    "x2 = LpVariable(\"x2\", lowBound=0)"
   ]
  },
  {
   "cell_type": "code",
   "execution_count": 17,
   "metadata": {},
   "outputs": [],
   "source": [
    "# Objective Function\n",
    "prob += 15*x1 + 25*x2"
   ]
  },
  {
   "cell_type": "code",
   "execution_count": 18,
   "metadata": {},
   "outputs": [],
   "source": [
    "# Constraints\n",
    "prob += 0.5*x1 + 2*x2 <= 100\n",
    "prob += 2*x1 + x2 <= 100"
   ]
  },
  {
   "cell_type": "code",
   "execution_count": 19,
   "metadata": {},
   "outputs": [
    {
     "data": {
      "text/plain": [
       "Giapetto:\n",
       "MAXIMIZE\n",
       "15*x1 + 25*x2 + 0\n",
       "SUBJECT TO\n",
       "_C1: 0.5 x1 + 2 x2 <= 100\n",
       "\n",
       "_C2: 2 x1 + x2 <= 100\n",
       "\n",
       "VARIABLES\n",
       "x1 Continuous\n",
       "x2 Continuous"
      ]
     },
     "execution_count": 19,
     "metadata": {},
     "output_type": "execute_result"
    }
   ],
   "source": [
    "# Display the LP problem\n",
    "prob"
   ]
  },
  {
   "cell_type": "code",
   "execution_count": 20,
   "metadata": {},
   "outputs": [
    {
     "data": {
      "text/plain": [
       "1"
      ]
     },
     "execution_count": 20,
     "metadata": {},
     "output_type": "execute_result"
    }
   ],
   "source": [
    "prob.solve()"
   ]
  },
  {
   "cell_type": "code",
   "execution_count": 21,
   "metadata": {},
   "outputs": [
    {
     "data": {
      "text/plain": [
       "'Optimal'"
      ]
     },
     "execution_count": 21,
     "metadata": {},
     "output_type": "execute_result"
    }
   ],
   "source": [
    "LpStatus[prob.status]"
   ]
  },
  {
   "cell_type": "code",
   "execution_count": 22,
   "metadata": {},
   "outputs": [
    {
     "name": "stdout",
     "output_type": "stream",
     "text": [
      "Status: Optimal\n"
     ]
    }
   ],
   "source": [
    "# Print the solution status\n",
    "print(\"Status:\", LpStatus[prob.status])"
   ]
  },
  {
   "cell_type": "code",
   "execution_count": 23,
   "metadata": {},
   "outputs": [
    {
     "data": {
      "text/plain": [
       "(28.571429, 42.857143, 1500.0000099999997)"
      ]
     },
     "execution_count": 23,
     "metadata": {},
     "output_type": "execute_result"
    }
   ],
   "source": [
    "# show the solution\n",
    "value(x1), value(x2), value(prob.objective)"
   ]
  },
  {
   "cell_type": "code",
   "execution_count": 24,
   "metadata": {},
   "outputs": [
    {
     "name": "stdout",
     "output_type": "stream",
     "text": [
      "x1 = 28.571429 \tReduced Cost = -0.0\n",
      "x2 = 42.857143 \tReduced Cost = -0.0\n"
     ]
    }
   ],
   "source": [
    "# show solution (with reduced cost)\n",
    "for v in prob.variables():\n",
    "    print(v.name, '=', v.varValue, '\\tReduced Cost =', v.dj)"
   ]
  },
  {
   "cell_type": "code",
   "execution_count": 25,
   "metadata": {},
   "outputs": [
    {
     "name": "stdout",
     "output_type": "stream",
     "text": [
      "Objective =  1500.0000099999997\n"
     ]
    }
   ],
   "source": [
    "print('Objective = ', value(prob.objective))"
   ]
  },
  {
   "cell_type": "code",
   "execution_count": 28,
   "metadata": {},
   "outputs": [
    {
     "name": "stdout",
     "output_type": "stream",
     "text": [
      "\n",
      "Sensitivity Analysis\n",
      "Constraints\t\tShadow Price\t\t\tSlack\n",
      "_C1 : 0.5*x1 + 2*x2 <= 100.0 \t\t 10.0 \t\t -0.0\n",
      "_C2 : 2*x1 + x2 <= 100 \t\t 5.0 \t\t -0.0\n"
     ]
    }
   ],
   "source": [
    "print('\\nSensitivity Analysis\\nConstraints\\t\\tShadow Price\\t\\t\\tSlack')\n",
    "for name,c in prob.constraints.items():\n",
    "    print(name, ':', c, '\\t\\t', c.pi, '\\t\\t', c.slack)"
   ]
  },
  {
   "cell_type": "code",
   "execution_count": null,
   "metadata": {},
   "outputs": [],
   "source": []
  }
 ],
 "metadata": {
  "kernelspec": {
   "display_name": "Python 3",
   "language": "python",
   "name": "python3"
  },
  "language_info": {
   "codemirror_mode": {
    "name": "ipython",
    "version": 3
   },
   "file_extension": ".py",
   "mimetype": "text/x-python",
   "name": "python",
   "nbconvert_exporter": "python",
   "pygments_lexer": "ipython3",
   "version": "3.8.3"
  }
 },
 "nbformat": 4,
 "nbformat_minor": 4
}
